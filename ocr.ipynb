{
 "cells": [
  {
   "cell_type": "code",
   "execution_count": 2,
   "source": [
    "import cv2\n",
    "import pytesseract\n",
    "from pdf2image import convert_from_path\n",
    "import numpy as np"
   ],
   "outputs": [],
   "metadata": {}
  },
  {
   "cell_type": "code",
   "execution_count": 15,
   "source": [
    "# configs to pytesseract\n",
    "CONFIG = r'--oem 3 --psm 6'\n",
    "\n",
    "# convert pdf to image\n",
    "pages = convert_from_path('./2020 - Reconhecimento Direito, Odontologia.pdf')"
   ],
   "outputs": [],
   "metadata": {}
  },
  {
   "cell_type": "code",
   "execution_count": 13,
   "source": [
    "# get grayscale image\n",
    "def grayscale(image):\n",
    "    return cv2.cvtColor(image, cv2.COLOR_BGR2GRAY)\n",
    "\n",
    "# noise removal\n",
    "def remove_noise(image):\n",
    "    return cv2.medianBlur(image,5)\n",
    " \n",
    "#thresholding\n",
    "def thresholding(image):\n",
    "    return cv2.threshold(image, 0, 255, cv2.THRESH_BINARY + cv2.THRESH_OTSU)[1]\n"
   ],
   "outputs": [],
   "metadata": {}
  },
  {
   "cell_type": "code",
   "execution_count": 63,
   "source": [
    "pageTest = np.uint8(pages[0])\n",
    "pageTest = get_grayscale(pageTest)\n",
    "pageTest = thresholding(pageTest)"
   ],
   "outputs": [],
   "metadata": {}
  },
  {
   "cell_type": "code",
   "execution_count": 64,
   "source": [
    "print(pytesseract.image_to_string(pageTest, config=CONFIG, lang='por'))"
   ],
   "outputs": [
    {
     "output_type": "stream",
     "name": "stdout",
     "text": [
      "Diário Oficial\n",
      "2 Teresina(PI) - Segunda-feira, 17 de fevereiro de 2020 * Nº 33\n",
      "E\n",
      "\n",
      "An 4º Compete a» Comité Fsats de Articulação e Monitoramento de Políticas sm; DECRETONº 48.854 ,DE 47) DE EEVSLSeDE 2020\n",
      "Públicas para as Mulheres - CEAMPM: ,\n",
      "\n",
      "1- estabelecer a metodologia «e monitoramento das políticas para as mulheres, .\n",
      "\n",
      "11 - desenvolver e adotar instrumentos de monitoramento e avaliação para ideniificar Renova o reconhecimento do Curso de\n",
      "demandas de mulheres e meninas por noves políticas públicas, para acompanhar a implementação CS Integrado. a ts Spa CIES\n",
      "de ações em curso e mensurar os resultados das ações sobre a vida de mulheres e meninas do Piauí. Campus “Heróis do Jesipano” da\n",
      "\n",
      "LH fomentar espaços de discussão especializada que sejam capazes de qualificar os Universidade Estadual do Piaui - UESPI. em\n",
      "diagnósticos setoriais, orientando assim a lomada de decisão de gestores com vistas ao Campo Maior - PI.\n",
      "aprimoramento das políticas públicas para muiheres em fmbiio municipal € estadual:\n",
      "\n",
      "IV - promover a difusão das politicas públicas para as mulheres junto a órgãos e\n",
      "entidades governamentais € não-govemnamentais;\n",
      "\n",
      "Y - elaborar relatório anual de acompanhamento das ações.\n",
      "\n",
      "O GOVERNADOR DO ESTADO DO PIAUÍ. no uso das atribuições que lhe\n",
      "\n",
      "An, $º O regimento intemo do Comitê de Aniculação e Monitoramento será aprovado conferem os incisos 1. V e XUII, do art. 102, da Constituição Estadual, combinado com o disposto\n",
      "\n",
      "o ' ; e ac na Lei Estadual nº 5.10], de 23 de novembro de 1999, considerando a Resolução CEE/PI «º\n",
      "por maioria absoluta dos seus integrantes e disporá sobre a organização, forma de apreciação e 177/2019 e Parecer CEE/PI nº 190/2019, do Conselho Estadual de Educação - CEE/PI, e tendo\n",
      "deliberação das matérias, bem como sobre sus composição e funcionamento. em vista o contido no OFÍCIO Nº 0061/2020-GAR/Reitoria. de 29 de janeiro de 2020, da\n",
      "\n",
      "o Universidade Estadual do Piaui - UESPI, vinculado ao AP.010.1.000647/20-90,\n",
      "An, 6º Este Decreta entra em vigor em 30 dias a partir de sua data de publicação.\n",
      "DECRETA:\n",
      "Á FUS LEO .\n",
      "PALÁCIO DE KARNAK, em Teresina (PI), d% de 4 de 2020 An. 1º Fica renovado o reconhecimento do Curso de Licencistura em Pedagogia.\n",
      "ministrado no Centro Integrado de Educação Superior - CIES - Campus “Heróis do Jenipapo”, da\n",
      "A o / Universidade Estadual do Piaui - LESPI em Campo Maior - PI, até 31 de Julho de 2024,\n",
      "f\n",
      "! Ar. 2º À renovação do reconhecimento do curso referenciado no ar. 1º deste Decreto\n",
      "GOVERNADOR DO ESTADO tem efeito retroativo à data do termo final de rxxonhecimento anterior.\n",
      "; ' Ant. 3º Este Decreto entra em vigor na data de sua publicação.\n",
      "'\n",
      "di | PALÁCIO DE KARNAK, em Teresina (P]), LF deTEVECEAÇO de 2020.\n",
      "V\n",
      "E GOMERN\n",
      "sÉCI po DE GOVERNO p A\n",
      "Les i— GOVERNADOR DO ESTADO\n",
      "sm DECRETON' 48.930 DE 47 DE CevEtc er 20%\n",
      "í A\n",
      "Renova o reconhecimento do Curso de SECRIA frio DE o\n",
      "Licenciatura em Letrasínglês, ministrado no\n",
      "Centro Integrado de Educação Superior - CIES ay\n",
      "-€ “Prof ônio Gi . .05\n",
      "de Sou da Usisnidado sad ca PS E DECRETO Nº 12. $32 DE 17 DECEELALO DE 2020\n",
      "UESPJ, em Piripiri - PI.\n",
      "Renova o reconhecimento do Curso de\n",
      "Bacharelado em Odontologia. ministrado no\n",
      "Centro Integrado de Educação Superior - CIES\n",
      "- Campus \"Professor Alexandre Alves de\n",
      "Oliveira”, da Universidade Estadual do Piauí -\n",
      "UESPI, em Pi -PL\n",
      "\n",
      "O GOVERNADOR DO ESTADO DO PIAUÍ. no uso das atribuições que Ihe SPL em Paraiba\n",
      "conferem Os incisos L, V e XII, do am. 182, da Constituição Estadual, combinado com o disposto\n",
      "na Lei Estadual nº 5.101, de 23 de novembro de 1999, considerando a Resolução CEE/PI nº\n",
      "163/2019 e Parecer CEE/PI PP 176/2019, do Conselho Estadual de Educação - CEE/PI, e lendo\n",
      "em visa o contido no OFÍCIO Nº 0058/2020-GAB/ Reitoria, de 29 de janeiro de 2020. da O GovERN ;\n",
      "no res ! GOVERNADOR DO ESTADO DO PIAUÍ. no uso das atribuições que lhe\n",
      "Universidade Estadual do Piaui - USP), vinculado ao AP.010.1,000644/20-61, conferem os incisos L. V e XIII, do art. 102. da Constituição Estadual, combinado com o disposto\n",
      "\n",
      "na Lei Estadual nº 5.101, de 23 de novembro de 1999, considerando a Resolução CEE/PI nº\n",
      "DECRETA: 188/2019 e Parecer CEEPI nº 200/2019, do Conselho Estadual de Educação - CEE/PI, é tendo\n",
      "em vista o contido no OFÍCIO Nº 0059/2020-GAB/Reitoria, de 29 de janeiro de 2020, da\n",
      "\n",
      "Am. !º Fica renovado o reconhecimento do Curso de Licenciatura em Letrastnglês Universidade Estadual do Piauí » UESP], vinculado ao AP.010.1.000645/20-74.\n",
      "minisitado no Centro Integrado de Educação Superior - CIES - Campus “Professor Antônio DECRETA:\n",
      "\n",
      "Giovanne Alves de Sousa”, da Universidade Estadual do Piaui - UESPI, em Piripiri - PL. até 31\n",
      "de julho de 2023. Am. 1º Fica renovado o reconhecimento do Curso ar Bacharelado em Odontologia.\n",
      "ministrado no Centro Integrado de Educação Superior « CIES - Campus “Professor Alexandre\n",
      "\n",
      "An, Pº À renovação da reconhecine “ss do curso ref”. aciado no am, 1º deste Decreto Alves de Oliveira”. da Universidade Fstadua! do Pisuí - UESPI, em Pamaiba - PI, até 31 de\n",
      "tem efeito retroativo à data do temo final do reconhecimento anterior. dezembro de 2023\n",
      "\n",
      "Am. 2º A renovação do reconhecimento do curso referenciado no ar. 1º deste Decreio\n",
      "Ant. 3º Este Decreto entra em vigor na data de sua publicação. tem efeito retroativo à data do termo final do reconhecimento anterior,\n",
      "PALÁCIO DE KARNAK, em Teresina (PI, JZ de FEVELSCO de 2020. Am, 3º Este Decreto entca em vigor na data de sua publicação.\n",
      "A PALÁCIO DE KARNAK, em Teresina (Pl), 47 de PEVZLEILO de 2020,\n",
      "| V à\n",
      "' ( sv\n",
      ",\n",
      "| GOVERNADOR DO ESTADO 1 GAVERNADOR DO ESTADU\n",
      ",\n",
      ", | N\n",
      "j /\n",
      ": ! b\n",
      "ok! E GOV\n",
      "SECRETÁRIO DE GOVERNO se Mto P\n",
      "\f\n"
     ]
    }
   ],
   "metadata": {}
  }
 ],
 "metadata": {
  "orig_nbformat": 4,
  "language_info": {
   "name": "python",
   "version": "3.8.11",
   "mimetype": "text/x-python",
   "codemirror_mode": {
    "name": "ipython",
    "version": 3
   },
   "pygments_lexer": "ipython3",
   "nbconvert_exporter": "python",
   "file_extension": ".py"
  },
  "kernelspec": {
   "name": "python3",
   "display_name": "Python 3.8.11 64-bit ('ia': conda)"
  },
  "interpreter": {
   "hash": "329eb0fbb67937f7401a16ffbd86fa7047aee5692fd264beb4896ec91bb8b462"
  }
 },
 "nbformat": 4,
 "nbformat_minor": 2
}